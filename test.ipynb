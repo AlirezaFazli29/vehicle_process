{
 "cells": [
  {
   "cell_type": "code",
   "execution_count": 46,
   "metadata": {},
   "outputs": [],
   "source": [
    "from ultralytics import YOLO\n",
    "from utils import (\n",
    "    select_device,\n",
    "    process_yolo_result,\n",
    "    process_yolo_result_ocr,\n",
    "    rectify,\n",
    "    YoloJSONRequest,\n",
    "    YoloJSONRequest2,\n",
    "    ModelJSONRequest,\n",
    "    UnetJSONRequest,\n",
    "    PlatePipelineRequest,\n",
    ")\n",
    "from my_models import (\n",
    "    Plate_Unet,\n",
    ")\n",
    "from torchvision import transforms\n",
    "from model_handler import (\n",
    "    YoloType,\n",
    "    UNetType\n",
    ")\n",
    "from PIL import Image\n",
    "import numpy as np\n",
    "import torch\n",
    "import base64\n",
    "import io"
   ]
  },
  {
   "cell_type": "code",
   "execution_count": 47,
   "metadata": {},
   "outputs": [],
   "source": [
    "image = Image.open(\"/home/al-fazli/Desktop/truck2.jpeg\")"
   ]
  },
  {
   "cell_type": "code",
   "execution_count": 48,
   "metadata": {},
   "outputs": [],
   "source": [
    "my_models = {}\n",
    "my_transforms = {}"
   ]
  },
  {
   "cell_type": "code",
   "execution_count": 49,
   "metadata": {},
   "outputs": [
    {
     "name": "stdout",
     "output_type": "stream",
     "text": [
      "NVIDIA GeForce RTX 4090 have been located and selected\n"
     ]
    }
   ],
   "source": [
    "device = select_device()\n",
    "my_models[\"yolo_plate\"] = YOLO(YoloType.CustomPlate.Plate_best.value)\n",
    "my_models[\"plate_unet\"] = Plate_Unet(UNetType.Corner_best, device=device)\n",
    "my_models[\"yolo_ocr\"] = YOLO(YoloType.CustomPlateOCR.plate_ocr_best.value)\n",
    "my_transforms[\"unet\"] = transforms.Compose(\n",
    "    [\n",
    "        transforms.Resize((256,256)),\n",
    "        transforms.ToTensor(),\n",
    "        transforms.Normalize(\n",
    "            mean = [0.485, 0.456, 0.406],\n",
    "            std = [0.229, 0.224, 0.225],\n",
    "        )\n",
    "    ]\n",
    ")"
   ]
  },
  {
   "cell_type": "code",
   "execution_count": 116,
   "metadata": {},
   "outputs": [],
   "source": [
    "conf_threshold_bb = 0.7\n",
    "conf_threshold_ocr = 0.7\n",
    "return_plates_locations = True\n",
    "return_base64_cropped_plates = True\n",
    "return_base64_rectified_plates = True\n",
    "return_base64_ocr_plate_results = True\n",
    "response = {}"
   ]
  },
  {
   "cell_type": "code",
   "execution_count": 120,
   "metadata": {},
   "outputs": [
    {
     "name": "stdout",
     "output_type": "stream",
     "text": [
      "9.87 ms ± 26 μs per loop (mean ± std. dev. of 7 runs, 100 loops each)\n"
     ]
    }
   ],
   "source": [
    "%%timeit\n",
    "\n",
    "plates_res = my_models[\"yolo_plate\"](\n",
    "    source = image,\n",
    "    conf = conf_threshold_bb,\n",
    "    verbose = False,\n",
    ")\n",
    "\n",
    "plate_response = process_yolo_result(plates_res[0])"
   ]
  },
  {
   "cell_type": "code",
   "execution_count": 118,
   "metadata": {},
   "outputs": [],
   "source": [
    "plates_res = my_models[\"yolo_plate\"](\n",
    "    source = image,\n",
    "    conf = conf_threshold_bb,\n",
    "    verbose = False,\n",
    ")\n",
    "\n",
    "plate_response = process_yolo_result(plates_res[0])"
   ]
  },
  {
   "cell_type": "code",
   "execution_count": 121,
   "metadata": {},
   "outputs": [
    {
     "name": "stdout",
     "output_type": "stream",
     "text": [
      "73.1 ns ± 0.255 ns per loop (mean ± std. dev. of 7 runs, 10,000,000 loops each)\n"
     ]
    }
   ],
   "source": [
    "%%timeit\n",
    "\n",
    "if return_plates_locations:\n",
    "    response = {\n",
    "        \"bounding_box_data\": plate_response,\n",
    "        \"origin_image_size\": {\n",
    "            \"x\": plates_res[0].orig_shape[1],\n",
    "            \"y\": plates_res[0].orig_shape[0],\n",
    "        }\n",
    "    }"
   ]
  },
  {
   "cell_type": "code",
   "execution_count": 122,
   "metadata": {},
   "outputs": [],
   "source": [
    "if return_plates_locations:\n",
    "    response = {\n",
    "        \"bounding_box_data\": plate_response,\n",
    "        \"origin_image_size\": {\n",
    "            \"x\": plates_res[0].orig_shape[1],\n",
    "            \"y\": plates_res[0].orig_shape[0],\n",
    "        }\n",
    "    }"
   ]
  },
  {
   "cell_type": "code",
   "execution_count": 123,
   "metadata": {},
   "outputs": [
    {
     "name": "stdout",
     "output_type": "stream",
     "text": [
      "1.41 ms ± 4.47 μs per loop (mean ± std. dev. of 7 runs, 1,000 loops each)\n"
     ]
    }
   ],
   "source": [
    "%%timeit\n",
    "\n",
    "boxes = plate_response[0][\"boxes\"]\n",
    "plates = [None] * len(boxes)\n",
    "for i, box in enumerate(boxes):\n",
    "    _, x1, y1, x2, y2 = map(int, box.values())\n",
    "    plates[i] = np.array(image)[y1:y2, x1:x2, :]\n",
    "    plates[i] = Image.fromarray(plates[i])"
   ]
  },
  {
   "cell_type": "code",
   "execution_count": 124,
   "metadata": {},
   "outputs": [],
   "source": [
    "boxes = plate_response[0][\"boxes\"]\n",
    "plates = [None] * len(boxes)\n",
    "for i, box in enumerate(boxes):\n",
    "    _, x1, y1, x2, y2 = map(int, box.values())\n",
    "    plates[i] = np.array(image)[y1:y2, x1:x2, :]\n",
    "    plates[i] = Image.fromarray(plates[i])"
   ]
  },
  {
   "cell_type": "code",
   "execution_count": 125,
   "metadata": {},
   "outputs": [
    {
     "name": "stdout",
     "output_type": "stream",
     "text": [
      "1.88 ms ± 4.13 μs per loop (mean ± std. dev. of 7 runs, 1,000 loops each)\n"
     ]
    }
   ],
   "source": [
    "%%timeit\n",
    "\n",
    "if return_base64_cropped_plates:\n",
    "    plates_base64 = [None] * len(plates)\n",
    "    for i, plate in enumerate(plates):\n",
    "        plates_base64[i] = plate\n",
    "        buffer = io.BytesIO()\n",
    "        plates_base64[i].save(buffer, format=\"PNG\")\n",
    "        buffer.seek(0)\n",
    "        plates_base64[i] = base64.b64encode(buffer.getvalue()).decode('utf-8')\n",
    "    response[\"base64_cropped_plates\"] = plates_base64"
   ]
  },
  {
   "cell_type": "code",
   "execution_count": 126,
   "metadata": {},
   "outputs": [],
   "source": [
    "if return_base64_cropped_plates:\n",
    "    plates_base64 = [None] * len(plates)\n",
    "    for i, plate in enumerate(plates):\n",
    "        plates_base64[i] = plate\n",
    "        buffer = io.BytesIO()\n",
    "        plates_base64[i].save(buffer, format=\"PNG\")\n",
    "        buffer.seek(0)\n",
    "        plates_base64[i] = base64.b64encode(buffer.getvalue()).decode('utf-8')\n",
    "    response[\"base64_cropped_plates\"] = plates_base64"
   ]
  },
  {
   "cell_type": "code",
   "execution_count": 127,
   "metadata": {},
   "outputs": [
    {
     "name": "stdout",
     "output_type": "stream",
     "text": [
      "985 μs ± 1.9 μs per loop (mean ± std. dev. of 7 runs, 1,000 loops each)\n"
     ]
    }
   ],
   "source": [
    "%%timeit\n",
    "\n",
    "torch_plates = [my_transforms[\"unet\"](plate) for plate in plates]\n",
    "torch_plates = torch.stack(torch_plates).to(device)"
   ]
  },
  {
   "cell_type": "code",
   "execution_count": 128,
   "metadata": {},
   "outputs": [],
   "source": [
    "torch_plates = [my_transforms[\"unet\"](plate) for plate in plates]\n",
    "torch_plates = torch.stack(torch_plates).to(device)"
   ]
  },
  {
   "cell_type": "code",
   "execution_count": 130,
   "metadata": {},
   "outputs": [
    {
     "name": "stdout",
     "output_type": "stream",
     "text": [
      "1.65 ms ± 4.05 μs per loop (mean ± std. dev. of 7 runs, 1,000 loops each)\n"
     ]
    }
   ],
   "source": [
    "%%timeit\n",
    "\n",
    "plates_segmentation_results = my_models[\"plate_unet\"](torch_plates)"
   ]
  },
  {
   "cell_type": "code",
   "execution_count": 131,
   "metadata": {},
   "outputs": [],
   "source": [
    "plates_segmentation_results = my_models[\"plate_unet\"](torch_plates)"
   ]
  },
  {
   "cell_type": "code",
   "execution_count": 132,
   "metadata": {},
   "outputs": [
    {
     "name": "stdout",
     "output_type": "stream",
     "text": [
      "317 μs ± 798 ns per loop (mean ± std. dev. of 7 runs, 1,000 loops each)\n"
     ]
    }
   ],
   "source": [
    "%%timeit \n",
    "\n",
    "segment_arrays = [\n",
    "    segment.squeeze(0).cpu().numpy()\n",
    "    for segment in plates_segmentation_results \n",
    "]\n",
    "rectified_plates = [\n",
    "    rectify(\n",
    "        image = plates[i],\n",
    "        segmentation_result = segment_array \n",
    "    )\n",
    "    for i, segment_array in enumerate(segment_arrays)\n",
    "]\n",
    "rectified_plates = [\n",
    "    Image.fromarray(rectified_plate)\n",
    "    for rectified_plate in rectified_plates\n",
    "]"
   ]
  },
  {
   "cell_type": "code",
   "execution_count": 133,
   "metadata": {},
   "outputs": [],
   "source": [
    "segment_arrays = [\n",
    "    segment.squeeze(0).cpu().numpy()\n",
    "    for segment in plates_segmentation_results \n",
    "]\n",
    "rectified_plates = [\n",
    "    rectify(\n",
    "        image = plates[i],\n",
    "        segmentation_result = segment_array \n",
    "    )\n",
    "    for i, segment_array in enumerate(segment_arrays)\n",
    "]\n",
    "rectified_plates = [\n",
    "    Image.fromarray(rectified_plate)\n",
    "    for rectified_plate in rectified_plates\n",
    "]"
   ]
  },
  {
   "cell_type": "code",
   "execution_count": 134,
   "metadata": {},
   "outputs": [
    {
     "name": "stdout",
     "output_type": "stream",
     "text": [
      "2.19 ms ± 2.5 μs per loop (mean ± std. dev. of 7 runs, 100 loops each)\n"
     ]
    }
   ],
   "source": [
    "%%timeit\n",
    "\n",
    "if return_base64_rectified_plates:\n",
    "    rectified_plates_base64 = [None] * len(rectified_plates)\n",
    "    for i, rectified_plate in enumerate(rectified_plates):\n",
    "        rectified_plates_base64[i] = rectified_plate\n",
    "        buffer = io.BytesIO()\n",
    "        rectified_plates_base64[i].save(buffer, format=\"PNG\")\n",
    "        buffer.seek(0)\n",
    "        rectified_plates_base64[i] = base64.b64encode(buffer.getvalue()).decode('utf-8')\n",
    "    response[\"base64_rectified_plates\"] = rectified_plates_base64"
   ]
  },
  {
   "cell_type": "code",
   "execution_count": 135,
   "metadata": {},
   "outputs": [],
   "source": [
    "if return_base64_rectified_plates:\n",
    "    rectified_plates_base64 = [None] * len(rectified_plates)\n",
    "    for i, rectified_plate in enumerate(rectified_plates):\n",
    "        rectified_plates_base64[i] = rectified_plate\n",
    "        buffer = io.BytesIO()\n",
    "        rectified_plates_base64[i].save(buffer, format=\"PNG\")\n",
    "        buffer.seek(0)\n",
    "        rectified_plates_base64[i] = base64.b64encode(buffer.getvalue()).decode('utf-8')\n",
    "    response[\"base64_rectified_plates\"] = rectified_plates_base64"
   ]
  },
  {
   "cell_type": "code",
   "execution_count": 137,
   "metadata": {},
   "outputs": [
    {
     "name": "stdout",
     "output_type": "stream",
     "text": [
      "17.9 ms ± 37.4 μs per loop (mean ± std. dev. of 7 runs, 100 loops each)\n"
     ]
    }
   ],
   "source": [
    "%%timeit\n",
    "\n",
    "ocr_res = my_models[\"yolo_ocr\"](\n",
    "    source = rectified_plates,\n",
    "    conf = conf_threshold_ocr,\n",
    "    verbose = False,\n",
    ")\n",
    "ocr_results = [\n",
    "    process_yolo_result_ocr(ocr)\n",
    "    for ocr in ocr_res\n",
    "]\n",
    "\n",
    "response[\"ocr_result\"] = ocr_results"
   ]
  },
  {
   "cell_type": "code",
   "execution_count": 138,
   "metadata": {},
   "outputs": [],
   "source": [
    "ocr_res = my_models[\"yolo_ocr\"](\n",
    "    source = rectified_plates,\n",
    "    conf = conf_threshold_ocr,\n",
    "    verbose = False,\n",
    ")\n",
    "ocr_results = [\n",
    "    process_yolo_result_ocr(ocr)\n",
    "    for ocr in ocr_res\n",
    "]\n",
    "\n",
    "response[\"ocr_result\"] = ocr_results"
   ]
  },
  {
   "cell_type": "code",
   "execution_count": 139,
   "metadata": {},
   "outputs": [
    {
     "name": "stdout",
     "output_type": "stream",
     "text": [
      "5.56 ms ± 35.5 μs per loop (mean ± std. dev. of 7 runs, 100 loops each)\n"
     ]
    }
   ],
   "source": [
    "%%timeit\n",
    "\n",
    "if return_base64_ocr_plate_results:\n",
    "    base64_ocr_plate_results = [None] * len(ocr_res)\n",
    "    for i, ocr in enumerate(ocr_res):\n",
    "        base64_ocr_plate_results[i] = Image.fromarray(ocr.plot()[:, :, ::-1])\n",
    "        buffer = io.BytesIO()\n",
    "        base64_ocr_plate_results[i].save(buffer, format=\"PNG\")\n",
    "        buffer.seek(0)\n",
    "        base64_ocr_plate_results[i] = base64.b64encode(buffer.getvalue()).decode('utf-8')\n",
    "    response[\"base64_ocr_results\"] = base64_ocr_plate_results"
   ]
  },
  {
   "cell_type": "code",
   "execution_count": 92,
   "metadata": {},
   "outputs": [],
   "source": [
    "if return_base64_ocr_plate_results:\n",
    "    base64_ocr_plate_results = [None] * len(ocr_res)\n",
    "    for i, ocr in enumerate(ocr_res):\n",
    "        base64_ocr_plate_results[i] = Image.fromarray(ocr.plot()[:, :, ::-1])\n",
    "        buffer = io.BytesIO()\n",
    "        base64_ocr_plate_results[i].save(buffer, format=\"PNG\")\n",
    "        buffer.seek(0)\n",
    "        base64_ocr_plate_results[i] = base64.b64encode(buffer.getvalue()).decode('utf-8')\n",
    "    response[\"base64_ocr_results\"] = base64_ocr_plate_results"
   ]
  },
  {
   "cell_type": "code",
   "execution_count": 143,
   "metadata": {},
   "outputs": [
    {
     "name": "stdout",
     "output_type": "stream",
     "text": [
      "33.4 ms ± 109 μs per loop (mean ± std. dev. of 7 runs, 10 loops each)\n"
     ]
    }
   ],
   "source": [
    "%%timeit\n",
    "\n",
    "conf_threshold_bb = 0.7\n",
    "conf_threshold_ocr = 0.7\n",
    "return_plates_locations = False\n",
    "return_base64_cropped_plates = False\n",
    "return_base64_rectified_plates = False\n",
    "return_base64_ocr_plate_results = False\n",
    "\n",
    "response = {}\n",
    "\n",
    "plates_res = my_models[\"yolo_plate\"](\n",
    "    source = image,\n",
    "    conf = conf_threshold_bb,\n",
    "    verbose = False,\n",
    ")\n",
    "\n",
    "plate_response = process_yolo_result(plates_res[0])\n",
    "\n",
    "if return_plates_locations:\n",
    "    response = {\n",
    "        \"bounding_box_data\": plate_response,\n",
    "        \"origin_image_size\": {\n",
    "            \"x\": plates_res[0].orig_shape[1],\n",
    "            \"y\": plates_res[0].orig_shape[0],\n",
    "        }\n",
    "    }\n",
    "\n",
    "boxes = plate_response[0][\"boxes\"]\n",
    "plates = [None] * len(boxes)\n",
    "for i, box in enumerate(boxes):\n",
    "    _, x1, y1, x2, y2 = map(int, box.values())\n",
    "    plates[i] = np.array(image)[y1:y2, x1:x2, :]\n",
    "    plates[i] = Image.fromarray(plates[i])\n",
    "\n",
    "if return_base64_cropped_plates:\n",
    "    plates_base64 = [None] * len(plates)\n",
    "    for i, plate in enumerate(plates):\n",
    "        plates_base64[i] = plate\n",
    "        buffer = io.BytesIO()\n",
    "        plates_base64[i].save(buffer, format=\"PNG\")\n",
    "        buffer.seek(0)\n",
    "        plates_base64[i] = base64.b64encode(buffer.getvalue()).decode('utf-8')\n",
    "    response[\"base64_cropped_plates\"] = plates_base64\n",
    "\n",
    "torch_plates = [my_transforms[\"unet\"](plate) for plate in plates]\n",
    "torch_plates = torch.stack(torch_plates).to(device)\n",
    "\n",
    "plates_segmentation_results = my_models[\"plate_unet\"](torch_plates)\n",
    "\n",
    "segment_arrays = [\n",
    "    segment.squeeze(0).cpu().numpy()\n",
    "    for segment in plates_segmentation_results \n",
    "]\n",
    "rectified_plates = [\n",
    "    rectify(\n",
    "        image = plates[i],\n",
    "        segmentation_result = segment_array \n",
    "    )\n",
    "    for i, segment_array in enumerate(segment_arrays)\n",
    "]\n",
    "rectified_plates = [\n",
    "    Image.fromarray(rectified_plate)\n",
    "    for rectified_plate in rectified_plates\n",
    "]\n",
    "\n",
    "if return_base64_rectified_plates:\n",
    "    rectified_plates_base64 = [None] * len(rectified_plates)\n",
    "    for i, rectified_plate in enumerate(rectified_plates):\n",
    "        rectified_plates_base64[i] = rectified_plate\n",
    "        buffer = io.BytesIO()\n",
    "        rectified_plates_base64[i].save(buffer, format=\"PNG\")\n",
    "        buffer.seek(0)\n",
    "        rectified_plates_base64[i] = base64.b64encode(buffer.getvalue()).decode('utf-8')\n",
    "    response[\"base64_rectified_plates\"] = rectified_plates_base64\n",
    "\n",
    "ocr_res = my_models[\"yolo_ocr\"](\n",
    "    source = rectified_plates,\n",
    "    conf = conf_threshold_ocr,\n",
    "    verbose = False,\n",
    ")\n",
    "ocr_results = [\n",
    "    process_yolo_result_ocr(ocr)\n",
    "    for ocr in ocr_res\n",
    "]\n",
    "\n",
    "response[\"ocr_result\"] = ocr_results\n",
    "\n",
    "if return_base64_ocr_plate_results:\n",
    "    base64_ocr_plate_results = [None] * len(ocr_res)\n",
    "    for i, ocr in enumerate(ocr_res):\n",
    "        base64_ocr_plate_results[i] = Image.fromarray(ocr.plot()[:, :, ::-1])\n",
    "        buffer = io.BytesIO()\n",
    "        base64_ocr_plate_results[i].save(buffer, format=\"PNG\")\n",
    "        buffer.seek(0)\n",
    "        base64_ocr_plate_results[i] = base64.b64encode(buffer.getvalue()).decode('utf-8')\n",
    "    response[\"base64_ocr_results\"] = base64_ocr_plate_results"
   ]
  }
 ],
 "metadata": {
  "kernelspec": {
   "display_name": ".venv",
   "language": "python",
   "name": "python3"
  },
  "language_info": {
   "codemirror_mode": {
    "name": "ipython",
    "version": 3
   },
   "file_extension": ".py",
   "mimetype": "text/x-python",
   "name": "python",
   "nbconvert_exporter": "python",
   "pygments_lexer": "ipython3",
   "version": "3.12.3"
  }
 },
 "nbformat": 4,
 "nbformat_minor": 2
}
